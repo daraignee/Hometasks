{
 "cells": [
  {
   "cell_type": "markdown",
   "metadata": {},
   "source": [
    "### Задание 1"
   ]
  },
  {
   "cell_type": "code",
   "execution_count": 14,
   "metadata": {},
   "outputs": [
    {
     "name": "stdout",
     "output_type": "stream",
     "text": [
      "{213, 15}\n",
      "{54, 119}\n",
      "{98, 35, 213}\n"
     ]
    }
   ],
   "source": [
    "ids = {'user1': [213, 213, 213, 15, 213],\n",
    "'user2': [54, 54, 119, 119, 119],\n",
    "'user3': [213, 98, 98, 35]}\n",
    "\n",
    "for line in ids.values():\n",
    "    \n",
    "    i = set(line)\n",
    "    print(i)\n"
   ]
  },
  {
   "cell_type": "markdown",
   "metadata": {},
   "source": [
    "### Задание 2"
   ]
  },
  {
   "cell_type": "code",
   "execution_count": 8,
   "metadata": {},
   "outputs": [
    {
     "name": "stdout",
     "output_type": "stream",
     "text": [
      "Поисковых запросов, содержащих 2 слова: 42.86 %\n",
      "Поисковых запросов, содержащих 3 слова: 57.14 %\n"
     ]
    }
   ],
   "source": [
    "queries = [\n",
    "'смотреть сериалы онлайн',\n",
    "'новости спорта',\n",
    "'афиша кино',\n",
    "'курс доллара',\n",
    "'сериалы этим летом',\n",
    "'курс по питону',\n",
    "'сериалы про спорт',\n",
    "]\n",
    "\n",
    "vol = {}\n",
    "for line in queries:\n",
    "    lines = len(line.split())\n",
    "    if lines not in vol:\n",
    "        vol[lines] = 1\n",
    "    else:\n",
    "        vol[lines] += 1\n",
    "vol\n",
    "lin = len(queries)\n",
    "words2 = vol[2]\n",
    "words3 = vol[3]\n",
    "words2_ = words2/lin*100\n",
    "words3_ = words3/lin*100\n",
    "words3_float = '{0:.2f}'.format(words3_)\n",
    "words2_float = '{0:.2f}'.format(words2_)\n",
    "print('Поисковых запросов, содержащих 2 слова:', words2_float, '%')\n",
    "print('Поисковых запросов, содержащих 3 слова:', words3_float, '%')"
   ]
  },
  {
   "cell_type": "markdown",
   "metadata": {},
   "source": [
    "### Задание 3"
   ]
  },
  {
   "cell_type": "code",
   "execution_count": 12,
   "metadata": {},
   "outputs": [
    {
     "name": "stdout",
     "output_type": "stream",
     "text": [
      "{'vk': {'revenue': 103, 'cost': 98, 'ROI': '5.10'}}\n",
      "{'yandex': {'revenue': 179, 'cost': 153, 'ROI': '16.99'}}\n",
      "{'facebook': {'revenue': 103, 'cost': 110, 'ROI': '-6.36'}}\n",
      "{'adwords': {'revenue': 35, 'cost': 34, 'ROI': '2.94'}}\n",
      "{'twitter': {'revenue': 11, 'cost': 24, 'ROI': '-54.17'}}\n"
     ]
    }
   ],
   "source": [
    "results = {\n",
    "'vk': {'revenue': 103, 'cost': 98},\n",
    "'yandex': {'revenue': 179, 'cost': 153},\n",
    "'facebook': {'revenue': 103, 'cost': 110},\n",
    "'adwords': {'revenue': 35, 'cost': 34},\n",
    "'twitter': {'revenue': 11, 'cost': 24},\n",
    "}\n",
    "for item in results:\n",
    "    data = results[item]\n",
    "    cleaned_data = list(data.values())\n",
    "    roi = ((cleaned_data[0]/cleaned_data[1]-1))*100\n",
    "    roi_float_2 = '{0:.2f}'.format(roi)\n",
    "    results[item]['ROI'] = roi_float_2\n",
    "    i = {}\n",
    "    i[item] = results[item]\n",
    "    print(i)\n"
   ]
  },
  {
   "cell_type": "markdown",
   "metadata": {},
   "source": [
    "### Задание 4"
   ]
  },
  {
   "cell_type": "code",
   "execution_count": 2,
   "metadata": {},
   "outputs": [
    {
     "name": "stdout",
     "output_type": "stream",
     "text": [
      "Максимальный объем продаж на рекламном канале: vk\n"
     ]
    }
   ],
   "source": [
    "stats = {'facebook': 55, 'yandex': 115, 'vk': 120, 'google': 99, 'email': 42, 'ok': 98}\n",
    "keymax = max(stats, key=stats.get)\n",
    "print('Максимальный объем продаж на рекламном канале:', keymax)"
   ]
  },
  {
   "cell_type": "code",
   "execution_count": null,
   "metadata": {},
   "outputs": [],
   "source": [
    "set([213, 213, 213, 15, 213, 54, 54, 119, 119, 119, 213, 98, 98, 35])"
   ]
  }
 ],
 "metadata": {
  "kernelspec": {
   "display_name": "Python 3",
   "language": "python",
   "name": "python3"
  },
  "language_info": {
   "codemirror_mode": {
    "name": "ipython",
    "version": 3
   },
   "file_extension": ".py",
   "mimetype": "text/x-python",
   "name": "python",
   "nbconvert_exporter": "python",
   "pygments_lexer": "ipython3",
   "version": "3.8.3"
  }
 },
 "nbformat": 4,
 "nbformat_minor": 4
}
