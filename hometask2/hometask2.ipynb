{
 "cells": [
  {
   "cell_type": "markdown",
   "metadata": {},
   "source": [
    "### Задание 1"
   ]
  },
  {
   "cell_type": "code",
   "execution_count": 13,
   "metadata": {},
   "outputs": [
    {
     "data": {
      "text/plain": [
       "{15, 35, 54, 98, 119, 213}"
      ]
     },
     "execution_count": 13,
     "metadata": {},
     "output_type": "execute_result"
    }
   ],
   "source": [
    "set([213, 213, 213, 15, 213, 54, 54, 119, 119, 119, 213, 98, 98, 35])"
   ]
  },
  {
   "cell_type": "markdown",
   "metadata": {},
   "source": [
    "### Задание 2"
   ]
  },
  {
   "cell_type": "code",
   "execution_count": 42,
   "metadata": {},
   "outputs": [
    {
     "name": "stdout",
     "output_type": "stream",
     "text": [
      "2\n",
      "1\n",
      "1\n",
      "1\n",
      "2\n",
      "2\n",
      "2\n",
      "Поисковых запросов, содержащих 2 слова: 42.86 %\n",
      "Поисковых запросов, содержащих 3 слова: 57.14 %\n"
     ]
    }
   ],
   "source": [
    "queries = [\n",
    "'смотреть сериалы онлайн',\n",
    "'новости спорта',\n",
    "'афиша кино',\n",
    "'курс доллара',\n",
    "'сериалы этим летом',\n",
    "'курс по питону',\n",
    "'сериалы про спорт',\n",
    "]\n",
    "for item in queries:\n",
    "    item.count(' ')\n",
    "    print(item.count(' ')) \n",
    "lines = len(queries)\n",
    "words2 = 3\n",
    "words3 = 4\n",
    "words2_ = words2/lines*100\n",
    "words3_ = words3/lines*100\n",
    "words3_float = '{0:.2f}'.format(words3_)\n",
    "words2_float = '{0:.2f}'.format(words2_)\n",
    "print('Поисковых запросов, содержащих 2 слова:', words2_float, '%')\n",
    "print('Поисковых запросов, содержащих 3 слова:', words3_float, '%')"
   ]
  },
  {
   "cell_type": "markdown",
   "metadata": {},
   "source": [
    "### Задание 3"
   ]
  },
  {
   "cell_type": "code",
   "execution_count": 41,
   "metadata": {},
   "outputs": [
    {
     "name": "stdout",
     "output_type": "stream",
     "text": [
      "vk\n",
      "{'revenue': 103, 'cost': 98, 'roi': '5.10'}\n",
      "yandex\n",
      "{'revenue': 179, 'cost': 153, 'roi': '16.99'}\n",
      "facebook\n",
      "{'revenue': 103, 'cost': 110, 'roi': '-6.36'}\n",
      "adwords\n",
      "{'revenue': 35, 'cost': 34, 'roi': '2.94'}\n",
      "twitter\n",
      "{'revenue': 11, 'cost': 24, 'roi': '-54.17'}\n"
     ]
    }
   ],
   "source": [
    "results = {\n",
    "'vk': {'revenue': 103, 'cost': 98},\n",
    "'yandex': {'revenue': 179, 'cost': 153},\n",
    "'facebook': {'revenue': 103, 'cost': 110},\n",
    "'adwords': {'revenue': 35, 'cost': 34},\n",
    "'twitter': {'revenue': 11, 'cost': 24},\n",
    "}\n",
    "for item in results:\n",
    "    data = results[item]\n",
    "    cleaned_data = list(data.values())\n",
    "    roi = ((cleaned_data[0]/cleaned_data[1]-1))*100\n",
    "    roi_float_2 = '{0:.2f}'.format(roi)\n",
    "    results[item]['roi'] = roi_float_2\n",
    "    print(item)\n",
    "    print(results[item])"
   ]
  },
  {
   "cell_type": "markdown",
   "metadata": {},
   "source": [
    "### Задание 4"
   ]
  },
  {
   "cell_type": "code",
   "execution_count": 40,
   "metadata": {},
   "outputs": [
    {
     "name": "stdout",
     "output_type": "stream",
     "text": [
      "Максимальный объем продаж на рекламном канале: vk\n"
     ]
    }
   ],
   "source": [
    "stats = {'facebook': 55, 'yandex': 115, 'vk': 120, 'google': 99, 'email': 42, 'ok': 98}\n",
    "keymax = max(stats, key=stats.get)\n",
    "print('Максимальный объем продаж на рекламном канале:', keymax)"
   ]
  }
 ],
 "metadata": {
  "kernelspec": {
   "display_name": "Python 3",
   "language": "python",
   "name": "python3"
  },
  "language_info": {
   "codemirror_mode": {
    "name": "ipython",
    "version": 3
   },
   "file_extension": ".py",
   "mimetype": "text/x-python",
   "name": "python",
   "nbconvert_exporter": "python",
   "pygments_lexer": "ipython3",
   "version": "3.8.3"
  }
 },
 "nbformat": 4,
 "nbformat_minor": 4
}
