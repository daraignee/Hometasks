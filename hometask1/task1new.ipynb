{
 "cells": [
  {
   "cell_type": "markdown",
   "metadata": {},
   "source": [
    "### Задание 1"
   ]
  },
  {
   "cell_type": "code",
   "execution_count": 1,
   "metadata": {},
   "outputs": [
    {
     "name": "stdout",
     "output_type": "stream",
     "text": [
      "o n\n"
     ]
    }
   ],
   "source": [
    "my_string = 'Phython vs R'\n",
    "i = len(my_string)\n",
    "if (i % 2) == 0:\n",
    "    print(my_string[i//2-1], my_string[i//2])\n",
    "else:\n",
    "    print(my_string[i//2])"
   ]
  },
  {
   "cell_type": "markdown",
   "metadata": {},
   "source": [
    "### Задание 2"
   ]
  },
  {
   "cell_type": "code",
   "execution_count": 3,
   "metadata": {},
   "outputs": [
    {
     "name": "stdout",
     "output_type": "stream",
     "text": [
      "Введите число: 1\n",
      "1\n",
      "Введите число: 3\n",
      "3\n",
      "Введите число: 0\n",
      "4\n"
     ]
    }
   ],
   "source": [
    "user_input = int(input('Введите число: '))\n",
    "sum_of_inputs = 0\n",
    "while user_input != 0:\n",
    "    sum_of_inputs += user_input\n",
    "    print(user_input)\n",
    "    user_input = int(input('Введите число: '))\n",
    "else:\n",
    "    print(sum_of_inputs)"
   ]
  },
  {
   "cell_type": "markdown",
   "metadata": {},
   "source": [
    "### Задание 3"
   ]
  },
  {
   "cell_type": "code",
   "execution_count": 7,
   "metadata": {},
   "outputs": [
    {
     "name": "stdout",
     "output_type": "stream",
     "text": [
      "Идеальные пары: \n",
      "('Peter', 'Kate')\n",
      "('Alex', 'Liza')\n",
      "('John', 'Kira')\n",
      "('Arthur', 'Emma')\n",
      "('Richard', 'Trisha')\n"
     ]
    }
   ],
   "source": [
    "boys = ['Peter', 'Alex', 'John', 'Arthur', 'Richard']\n",
    "girls = ['Kate', 'Liza', 'Kira', 'Emma', 'Trisha']\n",
    "b = len(boys)\n",
    "g = len(girls)\n",
    "\n",
    "sorted(boys)\n",
    "sorted(girls)\n",
    "if b == g:\n",
    "    print('Идеальные пары: ')\n",
    "    for pair in zip(boys, girls):\n",
    "        print(pair)\n",
    "else: \n",
    "    print('Внимание, кто-то может остаться без пары!')"
   ]
  },
  {
   "cell_type": "markdown",
   "metadata": {},
   "source": [
    "### Задание 4"
   ]
  },
  {
   "cell_type": "code",
   "execution_count": 8,
   "metadata": {},
   "outputs": [
    {
     "name": "stdout",
     "output_type": "stream",
     "text": [
      "Средняя температура в странах:\n",
      "Thailand - 23.9\n",
      "Germany - 13.8\n",
      "Russia - 3.7\n",
      "Poland - 12.0\n"
     ]
    }
   ],
   "source": [
    "countries_temperature = [\n",
    "['Thailand', [75.2, 77, 78.8, 73.4, 68, 75.2, 77]],\n",
    "['Germany', [57.2, 55.4, 59, 59, 53.6]],\n",
    "['Russia', [35.6, 37.4, 39.2, 41, 42.8, 39.2, 35.6]],\n",
    "['Poland', [50, 50, 53.6, 57.2, 55.4, 55.4]]]\n",
    "    \n",
    "print('Средняя температура в странах:')\n",
    "for info in countries_temperature:\n",
    "    mean_temp = info[1]\n",
    "    a =(sum(mean_temp)/len(mean_temp)-32)*5/9\n",
    "    b = '{0:.1f}'.format(a)\n",
    "    print(info[0], '-', b)"
   ]
  },
  {
   "cell_type": "code",
   "execution_count": null,
   "metadata": {},
   "outputs": [],
   "source": []
  }
 ],
 "metadata": {
  "kernelspec": {
   "display_name": "Python 3",
   "language": "python",
   "name": "python3"
  },
  "language_info": {
   "codemirror_mode": {
    "name": "ipython",
    "version": 3
   },
   "file_extension": ".py",
   "mimetype": "text/x-python",
   "name": "python",
   "nbconvert_exporter": "python",
   "pygments_lexer": "ipython3",
   "version": "3.8.3"
  }
 },
 "nbformat": 4,
 "nbformat_minor": 4
}
