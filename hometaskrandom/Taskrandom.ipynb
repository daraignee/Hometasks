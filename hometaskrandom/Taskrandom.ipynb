{
 "cells": [
  {
   "cell_type": "code",
   "execution_count": null,
   "metadata": {},
   "outputs": [],
   "source": [
    "# 777: 200 руб.\n",
    "#999: 100 руб.\n",
    "#555: 50 руб.\n",
    "#333: 15 руб.\n",
    "#111: 10 руб.\n",
    "#*77: 5 руб.\n",
    "#**7: 3 руб.\n",
    "#*00: 2 руб.\n",
    "#**0: 1 руб."
   ]
  },
  {
   "cell_type": "code",
   "execution_count": 24,
   "metadata": {},
   "outputs": [
    {
     "name": "stdout",
     "output_type": "stream",
     "text": [
      "Потрачено: -59366 руб.\n",
      "Удачных попыток: 529\n",
      "Всего попыток: 100000\n",
      "Вероятность победы из моделирования: 0.00529\n",
      "Теоретическая вероятность победы: 0.005\n"
     ]
    }
   ],
   "source": [
    "import numpy as np\n",
    "\n",
    "trials = 100000   # Количество попыток\n",
    "wins = 0    # Количество успехов\n",
    "money = 0\n",
    "\n",
    "for i in range(trials):\n",
    "    random_score = np.random.randint(0, 1000)    # Случайное количество очков от 0 до 999\n",
    "    \n",
    "    if random_score == 777:\n",
    "        wins += 1\n",
    "        money += 200\n",
    "    elif random_score == 999:\n",
    "        wins += 1\n",
    "        money += 100\n",
    "    elif random_score == 555:\n",
    "        wins += 1\n",
    "        money += 50\n",
    "    elif random_score == 333:\n",
    "        wins += 1\n",
    "        money += 15\n",
    "    elif random_score == 111:\n",
    "        wins += 1\n",
    "        money += 10\n",
    "    else: \n",
    "        money += -1\n",
    "    \n",
    "p_monte_carlo = wins / trials    # Вероятность из моделирования\n",
    "p = 5 / 1000                             # Теоретическая вероятность\n",
    "\n",
    "print('Потрачено:', money, 'руб.')\n",
    "print('Удачных попыток:', wins)\n",
    "print('Всего попыток:', trials)\n",
    "print('Вероятность победы из моделирования:', p_monte_carlo)\n",
    "print('Теоретическая вероятность победы:', p)"
   ]
  }
 ],
 "metadata": {
  "kernelspec": {
   "display_name": "Python 3",
   "language": "python",
   "name": "python3"
  },
  "language_info": {
   "codemirror_mode": {
    "name": "ipython",
    "version": 3
   },
   "file_extension": ".py",
   "mimetype": "text/x-python",
   "name": "python",
   "nbconvert_exporter": "python",
   "pygments_lexer": "ipython3",
   "version": "3.8.3"
  }
 },
 "nbformat": 4,
 "nbformat_minor": 4
}
