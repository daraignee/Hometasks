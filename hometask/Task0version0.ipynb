{
 "cells": [
  {
   "cell_type": "code",
   "execution_count": 2,
   "metadata": {},
   "outputs": [
    {
     "name": "stdout",
     "output_type": "stream",
     "text": [
      "Фраза 1 длиннее фразы 2\n"
     ]
    }
   ],
   "source": [
    "#Задание 1\n",
    "phrase_1 = 'Насколько проще было бы писать программы, если бы не заказчики'\n",
    "phrase_2 = '640Кб должно хватить для любых задач. Билл Гейтс (по легенде)'\n",
    "a = len(phrase_1)\n",
    "b = len(phrase_2)\n",
    "if a > b:\n",
    "    print('Фраза 1 длиннее фразы 2')\n",
    "elif a < b:\n",
    "    print('Фраза 2 длиннее фразы 1')\n",
    "elif a == b:\n",
    "    print('Фразы одинаковой длинны')"
   ]
  },
  {
   "cell_type": "code",
   "execution_count": null,
   "metadata": {},
   "outputs": [],
   "source": [
    "#Задание 2\n",
    "year = 2020\n",
    "\n",
    "if year % 4 == 0 and year % 100 != 0 or year % 400 == 0:\n",
    "    print('Год високосный')\n",
    "else:\n",
    "    print('Год не високосный')"
   ]
  },
  {
   "cell_type": "code",
   "execution_count": null,
   "metadata": {},
   "outputs": [],
   "source": [
    "#Задание 4\n",
    "width = 10\n",
    "length = 205\n",
    "height = 5\n",
    "\n",
    "user_width = input('Введите ширину: ')\n",
    "user_length = input('Введите длинну: ')\n",
    "user_height = input('Введите высоту: ')\n",
    "\n",
    "user_width1 = int(user_width)\n",
    "user_length1 = int(user_length)\n",
    "user_height1 = int(user_height)\n",
    "\n",
    "if user_width1 < 15 and user_length1 < 15 and user_height1 < 15:\n",
    "    print('Коробка 1')\n",
    "elif user_width1 > 15 < 50 or user_length1 > 15 < 50 or user_height1 > 15 < 50:\n",
    "    print('Коробка 2')\n",
    "elif user_length1 > 200:\n",
    "    print('Упаковка для лыж')\n",
    "else:\n",
    "    print('Коробка 3')"
   ]
  },
  {
   "cell_type": "code",
   "execution_count": null,
   "metadata": {},
   "outputs": [],
   "source": [
    "#Задание 3\n",
    "day = int(input('Введите день: '))\n",
    "month = input('Введите месяц: ')\n",
    "if month == 'январь':\n",
    "    if day < 20:\n",
    "        print('Козерог')\n",
    "    else:\n",
    "        print('Водолей')\n",
    "\n",
    "elif month == 'февраль':\n",
    "    if day < 19:\n",
    "        print('Водолей')\n",
    "    else:\n",
    "        print('Рыбы')\n",
    "elif month == 'март':\n",
    "    if day < 21:\n",
    "        print('Рыбы')\n",
    "    else: \n",
    "        print('Овен')\n",
    "elif month == 'апрель':\n",
    "    if day < 20:\n",
    "        print('Овен')\n",
    "    else: \n",
    "        print('Телец')\n",
    "elif month == 'май':\n",
    "    if day < 21:\n",
    "        print('Телец')\n",
    "    else:\n",
    "        print('Близнецы')\n",
    "elif month == 'июнь':\n",
    "    if day < 21:\n",
    "        print('Близнецы')\n",
    "    else: \n",
    "        print('Рак')\n",
    "elif month == 'июль':\n",
    "    if day < 23:\n",
    "        print('Рак')\n",
    "    else:\n",
    "        print('Лев')\n",
    "elif month == 'август':\n",
    "    if day < 23:\n",
    "        print('Лев')\n",
    "    else:\n",
    "        print('Дева')\n",
    "elif month == 'сентябрь':\n",
    "    if day < 23:\n",
    "        print('Дева')\n",
    "    else:\n",
    "        print('Весы')\n",
    "elif month == 'октябрь':\n",
    "    if day < 23:\n",
    "        print('Весы')\n",
    "    else:\n",
    "        print('Скорпион')\n",
    "elif month == 'ноябрь':\n",
    "    if day < 21:\n",
    "        print('Скорпион')\n",
    "    else:\n",
    "        print('Стрелец')\n",
    "elif month == 'декабрь':\n",
    "    if day < 21:\n",
    "        print('Стрелец')\n",
    "    else:\n",
    "        print('Козерог')"
   ]
  }
 ],
 "metadata": {
  "kernelspec": {
   "display_name": "Python 3",
   "language": "python",
   "name": "python3"
  },
  "language_info": {
   "codemirror_mode": {
    "name": "ipython",
    "version": 3
   },
   "file_extension": ".py",
   "mimetype": "text/x-python",
   "name": "python",
   "nbconvert_exporter": "python",
   "pygments_lexer": "ipython3",
   "version": "3.8.3"
  }
 },
 "nbformat": 4,
 "nbformat_minor": 4
}
