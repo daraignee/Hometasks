{
 "cells": [
  {
   "cell_type": "code",
   "execution_count": 1,
   "metadata": {},
   "outputs": [],
   "source": [
    "# ДЗ 5: Исключения и обработка ошибок"
   ]
  },
  {
   "cell_type": "code",
   "execution_count": 14,
   "metadata": {},
   "outputs": [],
   "source": [
    "#Задание 1"
   ]
  },
  {
   "cell_type": "code",
   "execution_count": null,
   "metadata": {},
   "outputs": [],
   "source": [
    "from datetime import datetime\n",
    "\n",
    "The_Moscow_Times = 'Wednesday, October 2, 2002'\n",
    "The_Guardian = 'Friday, 11.10.13'\n",
    "Daily_News = 'Thursday, 18 August 1977'\n",
    "\n",
    "datetime.strptime(The_Moscow_Times, '%A ,%m %d, %Y')\n",
    "datetime.strptime(The_Guardian, '%A, %d.%m.%y')\n",
    "datetime.strptime(Daily_News, '%A, %d %m %Y')"
   ]
  },
  {
   "cell_type": "code",
   "execution_count": 19,
   "metadata": {},
   "outputs": [],
   "source": [
    "# Задание 2"
   ]
  },
  {
   "cell_type": "code",
   "execution_count": 26,
   "metadata": {},
   "outputs": [
    {
     "name": "stdout",
     "output_type": "stream",
     "text": [
      "2018-04-02 00:00:00 True\n",
      "2018-04-29 00:00:00 True\n",
      "2018-19-02 False\n"
     ]
    }
   ],
   "source": [
    "from datetime import datetime\n",
    "stream = ['2018-04-02', '2018-04-29', '2018-19-02']\n",
    "def check_date():\n",
    "    for date in stream:\n",
    "        try:\n",
    "            date = datetime.strptime(date, '%Y-%m-%d')\n",
    "            print(date, True)\n",
    "        except ValueError: \n",
    "            print(date, False)\n",
    "check_date()"
   ]
  },
  {
   "cell_type": "code",
   "execution_count": 13,
   "metadata": {},
   "outputs": [],
   "source": [
    "# Задание 3 "
   ]
  },
  {
   "cell_type": "code",
   "execution_count": null,
   "metadata": {},
   "outputs": [],
   "source": [
    " from datetime import datetime\n",
    "from datetime import timedelta\n",
    "\n",
    "def data_range():\n",
    "    list1 = []\n",
    "    start_date = input(\"Введите начальную: \")\n",
    "    end_date = input(\"Введите конечную дату: \")\n",
    "    \n",
    "    try:\n",
    "        start_date_time = datetime.strptime(start_date, '%Y-%m-%d')\n",
    "        end_date_time = datetime.strptime(end_date, '%Y-%m-%d')\n",
    "        current_date = start_date_time\n",
    "        \n",
    "        while current_date <= end_date_time:\n",
    "            print(current_date.strftime('%Y-%m-%d'))\n",
    "            current_date += timedelta(days=1)\n",
    "              \n",
    "        if current_date > end_date_time:\n",
    "            print('Внимание: начальная дата больше конечной!')\n",
    "        \n",
    "    except ValueError:\n",
    "        print('Внимание: не верный формат даты!', list1)\n",
    "         \n",
    "data_range() "
   ]
  }
 ],
 "metadata": {
  "kernelspec": {
   "display_name": "Python 3",
   "language": "python",
   "name": "python3"
  },
  "language_info": {
   "codemirror_mode": {
    "name": "ipython",
    "version": 3
   },
   "file_extension": ".py",
   "mimetype": "text/x-python",
   "name": "python",
   "nbconvert_exporter": "python",
   "pygments_lexer": "ipython3",
   "version": "3.8.3"
  }
 },
 "nbformat": 4,
 "nbformat_minor": 4
}
