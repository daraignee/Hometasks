{
 "cells": [
  {
   "cell_type": "code",
   "execution_count": null,
   "metadata": {},
   "outputs": [],
   "source": [
    "### ДЗ № 3 Функции"
   ]
  },
  {
   "cell_type": "code",
   "execution_count": null,
   "metadata": {},
   "outputs": [],
   "source": [
    "documents = [\n",
    "{'type': 'passport', 'number': '2207 876234', 'name': 'Василий Гупкин'},\n",
    "{'type': 'invoice', 'number': '11-2', 'name': 'Геннадий Покемонов'},\n",
    "{'type': 'insurance', 'number': '10006', 'name': 'Аристарх Павлов'}\n",
    "]\n",
    "directories = {\n",
    "'1': ['2207 876234', '11-2'],\n",
    "'2': ['10006'],\n",
    "'3': []\n",
    "}"
   ]
  },
  {
   "cell_type": "code",
   "execution_count": null,
   "metadata": {},
   "outputs": [],
   "source": [
    "# основная функция"
   ]
  },
  {
   "cell_type": "code",
   "execution_count": null,
   "metadata": {},
   "outputs": [
    {
     "name": "stdout",
     "output_type": "stream",
     "text": [
      "Введите команду: s\n",
      "Введите номер документа: 10006\n",
      "Номер полки:  2\n",
      "None\n",
      "Введите команду: p\n",
      "Введите номер документа: 2207 876234\n",
      "Владелец документа:  Василий Гупкин\n",
      "Введите номер документа: 10006\n",
      "Документ не найден в базе\n"
     ]
    }
   ],
   "source": [
    "def main():\n",
    "    while True: \n",
    "        user_input = input('Введите команду: ')\n",
    "        if user_input == 'p':\n",
    "            print(doc_num())\n",
    "        elif user_input == 's':\n",
    "            print(shelf())\n",
    "        elif user_input == 'l':\n",
    "            print(info())\n",
    "        elif user_input == 'as':\n",
    "            print(new_shelf())\n",
    "        elif user_input == 'ds':\n",
    "            print(del_shelf())\n",
    "        elif user_input == 'q':\n",
    "            print('Пока, пока!')\n",
    "            break\n",
    "main()"
   ]
  },
  {
   "cell_type": "code",
   "execution_count": null,
   "metadata": {},
   "outputs": [],
   "source": [
    "## Пункт 1. Пользователь по команде “p” может узнать владельца документа по его номеру\n",
    "documents = [\n",
    "{'type': 'passport', 'number': '2207 876234', 'name': 'Василий Гупкин'},\n",
    "{'type': 'invoice', 'number': '11-2', 'name': 'Геннадий Покемонов'},\n",
    "{'type': 'insurance', 'number': '10006', 'name': 'Аристарх Павлов'}\n",
    "]\n",
    "def doc_num():\n",
    "    user_input1 = input('Введите номер документа: ')\n",
    "    for line in documents:\n",
    "        if user_input1 == line['number']:     \n",
    "            print ('Владелец документа: ', line['name'])\n",
    "            return\n",
    "        else:\n",
    "            print ('Документ не найден в базе')\n",
    "doc_num()"
   ]
  },
  {
   "cell_type": "code",
   "execution_count": 7,
   "metadata": {},
   "outputs": [
    {
     "name": "stdout",
     "output_type": "stream",
     "text": [
      "Введите номер документа: 10006\n",
      "Номер полки:  2\n"
     ]
    }
   ],
   "source": [
    "## Пункт 2. Пользователь по команде “s” может по номеру документа узнать на какой полке он хранится\n",
    "directories = {\n",
    "'1': ['2207 876234', '11-2'],\n",
    "'2': ['10006'],\n",
    "'3': []\n",
    "}\n",
    "\n",
    "def shelf():\n",
    "    user_input1 = input('Введите номер документа: ')\n",
    "    for number, doc in directories.items():\n",
    "        if user_input1 in doc:\n",
    "            print('Номер полки: ', number)\n",
    "shelf()"
   ]
  },
  {
   "cell_type": "code",
   "execution_count": 9,
   "metadata": {},
   "outputs": [
    {
     "name": "stdout",
     "output_type": "stream",
     "text": [
      "№ документа: 2207 876234, тип: passport, владелец: Василий Гупкин, полка хранения: 1\n",
      "№ документа: 11-2, тип: invoice, владелец: Геннадий Покемонов, полка хранения: 1\n",
      "№ документа: 10006, тип: insurance, владелец: Аристарх Павлов, полка хранения: 2\n"
     ]
    }
   ],
   "source": [
    "## Пункт 3. Пользователь по команде “l” может увидеть полную информацию по всем документам\n",
    "\n",
    "def info():\n",
    "    for line in documents:\n",
    "        num = line['number']\n",
    "        for shelf, doc in directories.items():\n",
    "            if num in doc:\n",
    "                num_shelf = shelf\n",
    "                print(f'№ документа: {line[\"number\"]}, тип: {line[\"type\"]}, владелец: {line[\"name\"]}, полка хранения: {num_shelf}')\n",
    "info()"
   ]
  },
  {
   "cell_type": "code",
   "execution_count": 10,
   "metadata": {},
   "outputs": [
    {
     "name": "stdout",
     "output_type": "stream",
     "text": [
      "Введите номер полки: 4\n",
      "Полка добавлена. Текущий перечень полок: dict_keys(['1', '2', '3', '4'])\n"
     ]
    }
   ],
   "source": [
    "## Пункт 4. Пользователь по команде “as” может добавить новую полку\n",
    "\n",
    "def new_shelf():\n",
    "    user_input1 = input('Введите номер полки: ')\n",
    "    if user_input1 != directories.keys():\n",
    "        directories[user_input1] = '[]'\n",
    "        f = directories.keys()\n",
    "        print(f'Полка добавлена. Текущий перечень полок: {f}')\n",
    "new_shelf()"
   ]
  },
  {
   "cell_type": "code",
   "execution_count": 13,
   "metadata": {},
   "outputs": [
    {
     "name": "stdout",
     "output_type": "stream",
     "text": [
      "Введите номер полки: 3\n",
      "Полка удалена. Текущие номера полок: dict_keys(['1', '2'])\n"
     ]
    },
    {
     "ename": "RuntimeError",
     "evalue": "dictionary changed size during iteration",
     "output_type": "error",
     "traceback": [
      "\u001b[1;31m---------------------------------------------------------------------------\u001b[0m",
      "\u001b[1;31mRuntimeError\u001b[0m                              Traceback (most recent call last)",
      "\u001b[1;32m<ipython-input-13-a4821dbb1036>\u001b[0m in \u001b[0;36m<module>\u001b[1;34m\u001b[0m\n\u001b[0;32m     13\u001b[0m                 \u001b[1;32mdel\u001b[0m \u001b[0mdirectories\u001b[0m \u001b[1;33m[\u001b[0m\u001b[0muser_input1\u001b[0m\u001b[1;33m]\u001b[0m\u001b[1;33m\u001b[0m\u001b[1;33m\u001b[0m\u001b[0m\n\u001b[0;32m     14\u001b[0m                 \u001b[0mprint\u001b[0m\u001b[1;33m(\u001b[0m\u001b[1;34mf'Полка удалена. Текущие номера полок: {directories.keys()}'\u001b[0m\u001b[1;33m)\u001b[0m\u001b[1;33m\u001b[0m\u001b[1;33m\u001b[0m\u001b[0m\n\u001b[1;32m---> 15\u001b[1;33m \u001b[0mdel_shelf\u001b[0m\u001b[1;33m(\u001b[0m\u001b[1;33m)\u001b[0m\u001b[1;33m\u001b[0m\u001b[1;33m\u001b[0m\u001b[0m\n\u001b[0m",
      "\u001b[1;32m<ipython-input-13-a4821dbb1036>\u001b[0m in \u001b[0;36mdel_shelf\u001b[1;34m()\u001b[0m\n\u001b[0;32m      8\u001b[0m \u001b[1;32mdef\u001b[0m \u001b[0mdel_shelf\u001b[0m\u001b[1;33m(\u001b[0m\u001b[1;33m)\u001b[0m\u001b[1;33m:\u001b[0m\u001b[1;33m\u001b[0m\u001b[1;33m\u001b[0m\u001b[0m\n\u001b[0;32m      9\u001b[0m     \u001b[0muser_input1\u001b[0m \u001b[1;33m=\u001b[0m \u001b[0minput\u001b[0m\u001b[1;33m(\u001b[0m\u001b[1;34m'Введите номер полки: '\u001b[0m\u001b[1;33m)\u001b[0m\u001b[1;33m\u001b[0m\u001b[1;33m\u001b[0m\u001b[0m\n\u001b[1;32m---> 10\u001b[1;33m     \u001b[1;32mfor\u001b[0m \u001b[0mshelf\u001b[0m\u001b[1;33m,\u001b[0m \u001b[0mdoc\u001b[0m \u001b[1;32min\u001b[0m \u001b[0mdirectories\u001b[0m\u001b[1;33m.\u001b[0m\u001b[0mitems\u001b[0m\u001b[1;33m(\u001b[0m\u001b[1;33m)\u001b[0m\u001b[1;33m:\u001b[0m\u001b[1;33m\u001b[0m\u001b[1;33m\u001b[0m\u001b[0m\n\u001b[0m\u001b[0;32m     11\u001b[0m         \u001b[1;32mif\u001b[0m \u001b[0muser_input1\u001b[0m \u001b[1;33m==\u001b[0m \u001b[0mshelf\u001b[0m\u001b[1;33m:\u001b[0m\u001b[1;33m\u001b[0m\u001b[1;33m\u001b[0m\u001b[0m\n\u001b[0;32m     12\u001b[0m             \u001b[1;32mif\u001b[0m \u001b[0mdoc\u001b[0m \u001b[1;33m==\u001b[0m \u001b[1;33m[\u001b[0m\u001b[1;33m]\u001b[0m\u001b[1;33m:\u001b[0m\u001b[1;33m\u001b[0m\u001b[1;33m\u001b[0m\u001b[0m\n",
      "\u001b[1;31mRuntimeError\u001b[0m: dictionary changed size during iteration"
     ]
    }
   ],
   "source": [
    "## Пункт 5. Пользователь по команде “ds” может удалить существующую полку из данных (только если она пустая)\n",
    "directories = {\n",
    "'1': ['2207 876234', '11-2'],\n",
    "'2': ['10006'],\n",
    "'3': []\n",
    "}\n",
    "    \n",
    "def del_shelf():  \n",
    "    user_input1 = input('Введите номер полки: ')\n",
    "    for shelf, doc in directories.items():\n",
    "        if user_input1 == shelf:\n",
    "            if doc == []:\n",
    "                del directories [user_input1]\n",
    "                print(f'Полка удалена. Текущие номера полок: {directories.keys()}')\n",
    "del_shelf()"
   ]
  },
  {
   "cell_type": "code",
   "execution_count": null,
   "metadata": {},
   "outputs": [],
   "source": []
  }
 ],
 "metadata": {
  "kernelspec": {
   "display_name": "Python 3",
   "language": "python",
   "name": "python3"
  },
  "language_info": {
   "codemirror_mode": {
    "name": "ipython",
    "version": 3
   },
   "file_extension": ".py",
   "mimetype": "text/x-python",
   "name": "python",
   "nbconvert_exporter": "python",
   "pygments_lexer": "ipython3",
   "version": "3.8.3"
  }
 },
 "nbformat": 4,
 "nbformat_minor": 4
}
