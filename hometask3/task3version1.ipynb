{
 "cells": [
  {
   "cell_type": "code",
   "execution_count": 1,
   "metadata": {},
   "outputs": [],
   "source": [
    "# ДЗ № 3 Функции"
   ]
  },
  {
   "cell_type": "code",
   "execution_count": null,
   "metadata": {},
   "outputs": [],
   "source": [
    "documents = [\n",
    "{'type': 'passport', 'number': '2207 876234', 'name': 'Василий Гупкин'},\n",
    "{'type': 'invoice', 'number': '11-2', 'name': 'Геннадий Покемонов'},\n",
    "{'type': 'insurance', 'number': '10006', 'name': 'Аристарх Павлов'}\n",
    "]\n",
    "directories = {\n",
    "'1': ['2207 876234', '11-2'],\n",
    "'2': ['10006'],\n",
    "'3': []\n",
    "}"
   ]
  },
  {
   "cell_type": "code",
   "execution_count": null,
   "metadata": {},
   "outputs": [],
   "source": [
    "# основная функция\n",
    "def main():\n",
    "    while True: \n",
    "        user_input = input('Введите команду: ')\n",
    "        if user_input == 'p':\n",
    "            doc_num()\n",
    "        elif user_input == 's':\n",
    "            shelf()\n",
    "        elif user_input == 'l':\n",
    "            info()\n",
    "        elif user_input == 'as':\n",
    "            new_shelf()\n",
    "        elif user_input == 'ds':\n",
    "            del_shelf()\n",
    "        elif user_input == 'q':\n",
    "            print('Пока, пока!')\n",
    "            break\n",
    "main()"
   ]
  },
  {
   "cell_type": "code",
   "execution_count": null,
   "metadata": {},
   "outputs": [],
   "source": [
    "# Пункт 1. Пользователь по команде “p” может узнать владельца документа по его номеру\n",
    "documents = [\n",
    "{'type': 'passport', 'number': '2207 876234', 'name': 'Василий Гупкин'},\n",
    "{'type': 'invoice', 'number': '11-2', 'name': 'Геннадий Покемонов'},\n",
    "{'type': 'insurance', 'number': '10006', 'name': 'Аристарх Павлов'}\n",
    "]\n",
    "def doc_num():\n",
    "        user_input1 = input('Введите номер документа: ')\n",
    "        for line in documents:\n",
    "            if user_input1 == line['number']:        \n",
    "                print('Владелец документа:', line['name'])\n",
    "                return\n",
    "doc_num()"
   ]
  },
  {
   "cell_type": "code",
   "execution_count": null,
   "metadata": {},
   "outputs": [],
   "source": [
    "# Пункт 2. Пользователь по команде “s” может по номеру документа узнать на какой полке он хранится\n",
    "directories = {\n",
    "'1': ['2207 876234', '11-2'],\n",
    "'2': ['10006'],\n",
    "'3': []\n",
    "}\n",
    "\n",
    "def shelf():\n",
    "    user_input1 = input('Введите номер документа: ')\n",
    "    for number, doc in directories.items():\n",
    "        if user_input1 in doc:\n",
    "            print('Номер полки: ', number)\n",
    "shelf()"
   ]
  },
  {
   "cell_type": "code",
   "execution_count": null,
   "metadata": {},
   "outputs": [],
   "source": [
    "# Пункт 3. Пользователь по команде “l” может увидеть полную информацию по всем документам\n",
    "\n",
    "def info():\n",
    "    for line in documents:\n",
    "        num = line['number']\n",
    "        for shelf, doc in directories.items():\n",
    "            if num in doc:\n",
    "                num_shelf = shelf\n",
    "                print(f'№ документа: {line[\"number\"]}, тип: {line[\"type\"]}, владелец: {line[\"name\"]}, полка хранения: {num_shelf}')\n",
    "info()"
   ]
  },
  {
   "cell_type": "code",
   "execution_count": null,
   "metadata": {},
   "outputs": [],
   "source": [
    "# Пункт 4. Пользователь по команде “as” может добавить новую полку\n",
    "\n",
    "directories = {\n",
    "'1': ['2207 876234', '11-2'],\n",
    "'2': ['10006'],\n",
    "'3': []\n",
    "}\n",
    "def new_shelf():\n",
    "    user_input1 = input('Введите номер полки: ')\n",
    "    if user_input1 in directories.keys():\n",
    "        print('Данная полка уже существует!')\n",
    "    else:\n",
    "        directories[user_input1] = '[]'\n",
    "        f = directories.keys()\n",
    "        print(f'Полка добавлена. Текущий перечень полок: {f}')\n",
    "new_shelf()"
   ]
  },
  {
   "cell_type": "code",
   "execution_count": null,
   "metadata": {},
   "outputs": [],
   "source": [
    "# Пункт 5. Пользователь по команде “ds” может удалить существующую полку из данных (только если она пустая)\n",
    "directories = {\n",
    "'1': ['2207 876234', '11-2'],\n",
    "'2': ['10006'],\n",
    "'3': []\n",
    "}\n",
    "\n",
    "def del_shelf():\n",
    "    user_input1 = input('Введите номер полки: ')\n",
    "    if user_input1 in list(directories.keys()) and directories[user_input1] == []:\n",
    "        del directories[user_input1]\n",
    "        print(f'Полка удалена. Текущие номера полок: {directories.keys()}')\n",
    "    elif user_input1 in directories and directories[user_input1] != []:\n",
    "        print(f'Полка содержит документы! Текущие номера полок: {directories.keys()}')\n",
    "    else:\n",
    "        print('Данная полка не существует!')\n",
    "del_shelf()"
   ]
  }
 ],
 "metadata": {
  "kernelspec": {
   "display_name": "Python 3",
   "language": "python",
   "name": "python3"
  },
  "language_info": {
   "codemirror_mode": {
    "name": "ipython",
    "version": 3
   },
   "file_extension": ".py",
   "mimetype": "text/x-python",
   "name": "python",
   "nbconvert_exporter": "python",
   "pygments_lexer": "ipython3",
   "version": "3.8.3"
  }
 },
 "nbformat": 4,
 "nbformat_minor": 4
}
