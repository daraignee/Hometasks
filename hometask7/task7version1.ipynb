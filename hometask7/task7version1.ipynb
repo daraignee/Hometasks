{
 "cells": [
  {
   "cell_type": "code",
   "execution_count": null,
   "metadata": {},
   "outputs": [],
   "source": [
    "# Напишите функцию, которая принимает на вход строку и проверяет является ли она валидным транспортным номером \n",
    "#(1 буква, 3 цифры, 2 буквы, 2-3 цифры). Обратите внимание, что не все буквы кириллического алфавита используются \n",
    "#в транспортных номерах."
   ]
  },
  {
   "cell_type": "code",
   "execution_count": 24,
   "metadata": {},
   "outputs": [
    {
     "name": "stdout",
     "output_type": "stream",
     "text": [
      "Введите номер билета: A222BC96\n",
      "Номер не валиден.\n"
     ]
    }
   ],
   "source": [
    "def number():\n",
    "    car_id = input('Введите номер машины: ')\n",
    "    regex_car_id = r'([АВЕКМНОРСТУХ]\\d{3}[АВЕКМНОРСТУХ]{2})(\\d{2,3})' \n",
    "    if car_id == regex_car_id:\n",
    "        print('Номер', re.sub(r'([АВЕКМНОРСТУХ]\\d{3}[АВЕКМНОРСТУХ]{2})(\\d{2,3})', r'\\1', car_id), 'валиден.')\n",
    "        print('Регион: ', re.sub(r'([АВЕКМНОРСТУХ]\\d{3}[АВЕКМНОРСТУХ]{2})(\\d{2,3})', r'\\2', car_id))\n",
    "              \n",
    "    else:\n",
    "        print('Номер не валиден.')\n",
    "              \n",
    "number()"
   ]
  },
  {
   "cell_type": "code",
   "execution_count": null,
   "metadata": {},
   "outputs": [],
   "source": [
    "# Напишите функцию, которая будет удалять все последовательные повторы слов из заданной строки при помощи регулярных выражений."
   ]
  },
  {
   "cell_type": "code",
   "execution_count": 46,
   "metadata": {},
   "outputs": [
    {
     "name": "stdout",
     "output_type": "stream",
     "text": [
      "Напишите функцию которая будет удалять все последовательные повторы слов из заданной строки при помощи регулярных выражений\n"
     ]
    }
   ],
   "source": [
    "some_string = 'Напишите функцию функцию, которая будет будет будет будет удалять все все все все последовательные повторы слов из из из из заданной строки строки при помощи регулярных выражений.'\n",
    "print(re.sub(r'\\b([^\\W\\d_]+)(\\s+\\1)+\\b', r'\\1', re.sub(r'\\W+', ' ', some_string).strip()))"
   ]
  },
  {
   "cell_type": "code",
   "execution_count": 15,
   "metadata": {},
   "outputs": [],
   "source": [
    "#Напишите функцию, которая будет возвращать акроним по переданной в нее строке со словами."
   ]
  },
  {
   "cell_type": "code",
   "execution_count": 43,
   "metadata": {},
   "outputs": [
    {
     "name": "stdout",
     "output_type": "stream",
     "text": [
      "Введите словосочетание: Российская федерация\n",
      "Р\n",
      "Ф\n"
     ]
    }
   ],
   "source": [
    "def acr():\n",
    "    acr = input('Введите словосочетание: ')\n",
    "    string = re.split(r'[\\s]+', acr)\n",
    "    for word in string:\n",
    "        result = re.search(r'([а-яёА-ЯЁa-zA-z]{1})(\\w+)', word)\n",
    "        x = result.group(1)\n",
    "        x_ = x.title()\n",
    "        print(x_)\n",
    "    \n",
    "acr()"
   ]
  },
  {
   "cell_type": "code",
   "execution_count": 42,
   "metadata": {},
   "outputs": [
    {
     "name": "stdout",
     "output_type": "stream",
     "text": [
      "Counter({'gmail.com': 2, 'ya.ru': 2, 'test.in': 1, 'mail.ru': 1})\n"
     ]
    }
   ],
   "source": [
    "# Напишите функцию, которая будет принимать на вход список email-адресов и выводить их распределение по доменным зонам.\n",
    "import collections #импортируем Counter для подсета доменов\n",
    "c = collections.Counter() \n",
    "emails = ['test@gmail.com', 'xyz@test.in', 'test@ya.ru', 'xyz@mail.ru', 'xyz@ya.ru', 'xyz@gmail.com']\n",
    "def domain():\n",
    "    regex_email = r'(\\w+[@])(\\w+[.]\\w{2,3})' # разделяем адреса на группы \"имя\" и \"домен\"\n",
    "    for email in emails: # проходимся циклом по списку адресов\n",
    "        result = re.search(regex_email, email) # ищем в адресах соответсвия кодировки регулярных выражений\n",
    "        domain = result.group(2) # выбираем группу \"домен\"\n",
    "        c[domain] += 1 # применяем Counter для подчета количества доменов\n",
    "    print(c)\n",
    "domain()"
   ]
  }
 ],
 "metadata": {
  "kernelspec": {
   "display_name": "Python 3",
   "language": "python",
   "name": "python3"
  },
  "language_info": {
   "codemirror_mode": {
    "name": "ipython",
    "version": 3
   },
   "file_extension": ".py",
   "mimetype": "text/x-python",
   "name": "python",
   "nbconvert_exporter": "python",
   "pygments_lexer": "ipython3",
   "version": "3.8.3"
  }
 },
 "nbformat": 4,
 "nbformat_minor": 4
}
